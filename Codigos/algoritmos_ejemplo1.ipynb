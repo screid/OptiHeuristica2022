{
  "nbformat": 4,
  "nbformat_minor": 0,
  "metadata": {
    "colab": {
      "name": "Untitled3.ipynb",
      "provenance": []
    },
    "kernelspec": {
      "name": "python3",
      "display_name": "Python 3"
    },
    "language_info": {
      "name": "python"
    }
  },
  "cells": [
    {
      "cell_type": "code",
      "execution_count": null,
      "metadata": {
        "colab": {
          "base_uri": "https://localhost:8080/"
        },
        "id": "a0zE-G4ClEAC",
        "outputId": "ea28f5d7-ca38-4ec3-e6b0-e5501e8d1a5e"
      },
      "outputs": [
        {
          "output_type": "stream",
          "name": "stdout",
          "text": [
            "Looking in indexes: https://pypi.org/simple, https://us-python.pkg.dev/colab-wheels/public/simple/\n",
            "Requirement already satisfied: pulp in /usr/local/lib/python3.7/dist-packages (2.6.0)\n"
          ]
        }
      ],
      "source": [
        "!pip install pulp"
      ]
    },
    {
      "cell_type": "code",
      "source": [
        "from pulp import *"
      ],
      "metadata": {
        "id": "LFzXATA8lc8l"
      },
      "execution_count": null,
      "outputs": []
    },
    {
      "cell_type": "markdown",
      "source": [
        "# 1) Creación del modelo"
      ],
      "metadata": {
        "id": "CZL7cxqSmGE-"
      }
    },
    {
      "cell_type": "code",
      "source": [
        "# Crear el modelo\n",
        "ejemplo1 = LpProblem(name = \"Ejemplo 1\", sense = LpMaximize) "
      ],
      "metadata": {
        "colab": {
          "base_uri": "https://localhost:8080/"
        },
        "id": "RDR3DpZQlt-s",
        "outputId": "46262675-8baf-4eea-fc41-b68e1eeeb3f4"
      },
      "execution_count": null,
      "outputs": [
        {
          "output_type": "stream",
          "name": "stderr",
          "text": [
            "/usr/local/lib/python3.7/dist-packages/pulp/pulp.py:1352: UserWarning: Spaces are not permitted in the name. Converted to '_'\n",
            "  warnings.warn(\"Spaces are not permitted in the name. Converted to '_'\")\n"
          ]
        }
      ]
    },
    {
      "cell_type": "markdown",
      "source": [
        "# 2) Declaración de variables"
      ],
      "metadata": {
        "id": "VsD_PsNimvgl"
      }
    },
    {
      "cell_type": "code",
      "source": [
        "xA = LpVariable(name = \"Producto A\", lowBound = 0)\n",
        "xB = LpVariable(name = \"Producto B\", lowBound = 0)"
      ],
      "metadata": {
        "id": "lWuCDF48mnVE"
      },
      "execution_count": null,
      "outputs": []
    },
    {
      "cell_type": "markdown",
      "source": [
        "# 3) Declarar función objetivo"
      ],
      "metadata": {
        "id": "dVTyM3GHnSit"
      }
    },
    {
      "cell_type": "code",
      "source": [
        "ejemplo1 += 10*xA + 12*xB, \"Maximizar ventas\""
      ],
      "metadata": {
        "id": "ylO-8l_lnJdT"
      },
      "execution_count": null,
      "outputs": []
    },
    {
      "cell_type": "markdown",
      "source": [
        "# 4) Declarar restricciones"
      ],
      "metadata": {
        "id": "h-ulJ9K2n_tU"
      }
    },
    {
      "cell_type": "code",
      "source": [
        "# 1) Límite de horas a trabajar\n",
        "ejemplo1 += 2*xA + 1.5*xB <= 40, \"Horas maximas\"\n",
        "\n",
        "# 2) Límite de tarros de pintura a utilizar\n",
        "ejemplo1 += xA + 2*xB <= 50, \"Tarros máximos disponibles\""
      ],
      "metadata": {
        "id": "5qGXeZeSnxzL"
      },
      "execution_count": null,
      "outputs": []
    },
    {
      "cell_type": "markdown",
      "source": [
        "# 5) Resolver"
      ],
      "metadata": {
        "id": "iAFJXuWjohf1"
      }
    },
    {
      "cell_type": "code",
      "source": [
        "ejemplo1.solve()"
      ],
      "metadata": {
        "colab": {
          "base_uri": "https://localhost:8080/"
        },
        "id": "cNMFadSEoYW8",
        "outputId": "76c6e62a-3e46-45fb-f45a-82c1b0a05028"
      },
      "execution_count": null,
      "outputs": [
        {
          "output_type": "execute_result",
          "data": {
            "text/plain": [
              "1"
            ]
          },
          "metadata": {},
          "execution_count": 20
        }
      ]
    },
    {
      "cell_type": "code",
      "source": [
        "# Llamar a todas las variables\n",
        "for v in ejemplo1.variables():\n",
        "  print(v.name, \"=\", v.varValue)"
      ],
      "metadata": {
        "colab": {
          "base_uri": "https://localhost:8080/"
        },
        "id": "ypaWebfxpSg6",
        "outputId": "ad07c233-2b03-43b4-9789-7d42eccf3737"
      },
      "execution_count": null,
      "outputs": [
        {
          "output_type": "stream",
          "name": "stdout",
          "text": [
            "Producto_A = 2.0\n",
            "Producto_B = 24.0\n"
          ]
        }
      ]
    },
    {
      "cell_type": "code",
      "source": [
        "# Otra opción:\n",
        "print(\"Producto A: \", ejemplo1.variables()[0].varValue)  #Valor variable 1\n",
        "print(\"Producto B: \", ejemplo1.variables()[1].varValue)  #Valor variable 2"
      ],
      "metadata": {
        "colab": {
          "base_uri": "https://localhost:8080/"
        },
        "id": "v3MoWjRTrCCE",
        "outputId": "e1ad3970-de82-430b-edf4-20cb922a2c44"
      },
      "execution_count": null,
      "outputs": [
        {
          "output_type": "stream",
          "name": "stdout",
          "text": [
            "Producto A:  2.0\n",
            "Producto B:  24.0\n"
          ]
        }
      ]
    },
    {
      "cell_type": "code",
      "source": [
        "# Solución función objetivo\n",
        "value(ejemplo1.objective)"
      ],
      "metadata": {
        "colab": {
          "base_uri": "https://localhost:8080/"
        },
        "id": "dD3osttGpoLi",
        "outputId": "9e2b93e7-fdff-4684-9a43-f7d2b655afbd"
      },
      "execution_count": null,
      "outputs": [
        {
          "output_type": "execute_result",
          "data": {
            "text/plain": [
              "308.0"
            ]
          },
          "metadata": {},
          "execution_count": 23
        }
      ]
    }
  ]
}