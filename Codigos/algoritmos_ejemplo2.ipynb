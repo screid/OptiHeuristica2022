{
  "nbformat": 4,
  "nbformat_minor": 0,
  "metadata": {
    "colab": {
      "name": "algoritmos-ejemplo2.ipynb",
      "provenance": [],
      "collapsed_sections": []
    },
    "kernelspec": {
      "name": "python3",
      "display_name": "Python 3"
    },
    "language_info": {
      "name": "python"
    }
  },
  "cells": [
    {
      "cell_type": "code",
      "execution_count": 1,
      "metadata": {
        "colab": {
          "base_uri": "https://localhost:8080/"
        },
        "id": "oCclwqgH3LIm",
        "outputId": "fe32171c-7fb1-43f7-cc55-be39ccec9856"
      },
      "outputs": [
        {
          "output_type": "stream",
          "name": "stdout",
          "text": [
            "Looking in indexes: https://pypi.org/simple, https://us-python.pkg.dev/colab-wheels/public/simple/\n",
            "Collecting pulp\n",
            "  Downloading PuLP-2.6.0-py3-none-any.whl (14.2 MB)\n",
            "\u001b[K     |████████████████████████████████| 14.2 MB 5.5 MB/s \n",
            "\u001b[?25hInstalling collected packages: pulp\n",
            "Successfully installed pulp-2.6.0\n"
          ]
        }
      ],
      "source": [
        "!pip install pulp"
      ]
    },
    {
      "cell_type": "code",
      "source": [
        "from pulp import *"
      ],
      "metadata": {
        "id": "vq_RSma53OXf"
      },
      "execution_count": 2,
      "outputs": []
    },
    {
      "cell_type": "markdown",
      "source": [
        "# Cargar modelo"
      ],
      "metadata": {
        "id": "EF6od9V43Pw_"
      }
    },
    {
      "cell_type": "code",
      "source": [
        "# Instanciar modelo\n",
        "ejemplo2 = LpProblem(name = \"Problema 2\", sense = LpMaximize)"
      ],
      "metadata": {
        "colab": {
          "base_uri": "https://localhost:8080/"
        },
        "id": "XBsuV6vo3Q6v",
        "outputId": "52486cb0-8e77-426a-bb09-8583b3e25491"
      },
      "execution_count": 3,
      "outputs": [
        {
          "output_type": "stream",
          "name": "stderr",
          "text": [
            "/usr/local/lib/python3.7/dist-packages/pulp/pulp.py:1352: UserWarning: Spaces are not permitted in the name. Converted to '_'\n",
            "  warnings.warn(\"Spaces are not permitted in the name. Converted to '_'\")\n"
          ]
        }
      ]
    },
    {
      "cell_type": "code",
      "source": [
        "# Declarar variables\n",
        "xM = LpVariable(\"Mesas\", lowBound = 0)\n",
        "xS = LpVariable(\"Sillas\", lowBound = 0)"
      ],
      "metadata": {
        "id": "MymuBvkN3bom"
      },
      "execution_count": 4,
      "outputs": []
    },
    {
      "cell_type": "code",
      "source": [
        "# Declarar función objetivo\n",
        "ejemplo2 += (60-20)*xM + (50-18)*xS, \"Maximizar utilidades\""
      ],
      "metadata": {
        "id": "mJrvCjEg3j92"
      },
      "execution_count": 5,
      "outputs": []
    },
    {
      "cell_type": "code",
      "source": [
        "# Declarar restricciones\n",
        "# 1) Cantidad máxima de piezas chicas\n",
        "ejemplo2 += 8*xM + 6*xS <= 60, \"Cantidad maxima de piezas pequenas\"\n",
        "# 2) Cantidad máxima de piezas grandes\n",
        "ejemplo2 += 2*xM + 1*xS <= 40, \"Cantidad maxima de piezas grandes\""
      ],
      "metadata": {
        "id": "GGRz1bJS3tMV"
      },
      "execution_count": 6,
      "outputs": []
    },
    {
      "cell_type": "markdown",
      "source": [
        "# Resolver"
      ],
      "metadata": {
        "id": "auP3omcm4B9A"
      }
    },
    {
      "cell_type": "code",
      "source": [
        "# Resolver ejemplo\n",
        "ejemplo2.solve()"
      ],
      "metadata": {
        "colab": {
          "base_uri": "https://localhost:8080/"
        },
        "id": "oD731yDz39Hm",
        "outputId": "3f74b0a9-3999-4444-edd3-7c111761f7db"
      },
      "execution_count": 7,
      "outputs": [
        {
          "output_type": "execute_result",
          "data": {
            "text/plain": [
              "1"
            ]
          },
          "metadata": {},
          "execution_count": 7
        }
      ]
    },
    {
      "cell_type": "code",
      "source": [
        "# Imprimir variables\n",
        "for v in ejemplo2.variables():\n",
        "  print(v.name, \"=\", v.varValue)"
      ],
      "metadata": {
        "colab": {
          "base_uri": "https://localhost:8080/"
        },
        "id": "HtaFgx094Fs-",
        "outputId": "59b0017e-e2d5-49a0-c820-a07a2030870d"
      },
      "execution_count": 13,
      "outputs": [
        {
          "output_type": "stream",
          "name": "stdout",
          "text": [
            "Mesas = 0.0\n",
            "Sillas = 10.0\n"
          ]
        }
      ]
    },
    {
      "cell_type": "code",
      "source": [
        "print(\"Utilidad maxima:\", value(ejemplo2.objective))"
      ],
      "metadata": {
        "colab": {
          "base_uri": "https://localhost:8080/"
        },
        "id": "iDjP5-w74ONa",
        "outputId": "8759e583-147a-4adb-9f8b-74a79e6213da"
      },
      "execution_count": 14,
      "outputs": [
        {
          "output_type": "stream",
          "name": "stdout",
          "text": [
            "Utilidad maxima: 320.0\n"
          ]
        }
      ]
    },
    {
      "cell_type": "code",
      "source": [],
      "metadata": {
        "id": "32pWIywB4fBF"
      },
      "execution_count": null,
      "outputs": []
    }
  ]
}