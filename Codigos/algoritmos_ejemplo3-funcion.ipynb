{
  "cells": [
    {
      "cell_type": "markdown",
      "metadata": {
        "id": "view-in-github",
        "colab_type": "text"
      },
      "source": [
        "<a href=\"https://colab.research.google.com/github/screid/OptiHeuristica2022/blob/main/algoritmos_ejemplo3-funcion.ipynb\" target=\"_parent\"><img src=\"https://colab.research.google.com/assets/colab-badge.svg\" alt=\"Open In Colab\"/></a>"
      ]
    },
    {
      "cell_type": "code",
      "execution_count": null,
      "metadata": {
        "colab": {
          "base_uri": "https://localhost:8080/"
        },
        "id": "OinC1vpiofgs",
        "outputId": "697aab14-30f2-4ee9-e811-e48ab780805a"
      },
      "outputs": [
        {
          "name": "stdout",
          "output_type": "stream",
          "text": [
            "Looking in indexes: https://pypi.org/simple, https://us-python.pkg.dev/colab-wheels/public/simple/\n",
            "Collecting pulp\n",
            "  Downloading PuLP-2.6.0-py3-none-any.whl (14.2 MB)\n",
            "\u001b[K     |████████████████████████████████| 14.2 MB 7.8 MB/s \n",
            "\u001b[?25hInstalling collected packages: pulp\n",
            "Successfully installed pulp-2.6.0\n"
          ]
        }
      ],
      "source": [
        "!pip install pulp"
      ]
    },
    {
      "cell_type": "code",
      "execution_count": null,
      "metadata": {
        "id": "I7fNx_ktorP4"
      },
      "outputs": [],
      "source": [
        "from pulp import *"
      ]
    },
    {
      "cell_type": "code",
      "source": [
        "def modelo_ejemplo3():\n",
        "  # Instanciar modelo\n",
        "  ejemplo3 = LpProblem(name = \"Ejemplo_3\", sense= LpMaximize)\n",
        "\n",
        "  # Instanciar variables\n",
        "  x1 = LpVariable(name = \"x1\", lowBound = 0.0, upBound = 1.0)\n",
        "  x2 = LpVariable(name = \"x2\", lowBound = 0.0, upBound = 1.0)\n",
        "  x3 = LpVariable(name = \"x3\", lowBound = 0.0, upBound = 1.0)\n",
        "  x4 = LpVariable(name = \"x4\", lowBound = 0.0, upBound = 1.0)\n",
        "\n",
        "  # Declarar funcion objetivo\n",
        "  ejemplo3 += 0.18*x1 + 0.20*x2 + 0.25*x3 + 0.19*x4, \"Maximizar_inversion\"\n",
        "\n",
        "  # Declarar restricciones\n",
        "  # 1. Valor bonos no debe ser menor al 30% de la inversion\n",
        "  ejemplo3 += x1 >= 0.30\n",
        "  # 2. Valor certificados no debe ser menos del 40% de la inversion\n",
        "  ejemplo3 += x4 >= 0.40\n",
        "  # 3. Valor acciones no puede superar el 20% de la inversion\n",
        "  ejemplo3 += x2+x3 <= 0.20\n",
        "  #Suma total porcentajes\n",
        "  ejemplo3 += x1 + x2 + x3 + x4 == 1.0\n",
        "\n",
        "  # Resolver\n",
        "  ejemplo3.solve()\n",
        "\n",
        "  # Resultados\n",
        "  # 1. Variables:\n",
        "  for v in ejemplo3.variables():\n",
        "    print(v.name, \":\", v.varValue)\n",
        "\n",
        "  # 2. Funcion objetivo\n",
        "  print(\"Funcion objetivo:\", value(ejemplo3.objective))"
      ],
      "metadata": {
        "id": "10fIjTrB2gPc"
      },
      "execution_count": 31,
      "outputs": []
    },
    {
      "cell_type": "code",
      "source": [
        "modelo_ejemplo3()"
      ],
      "metadata": {
        "colab": {
          "base_uri": "https://localhost:8080/"
        },
        "id": "iIcvQCKV1ftB",
        "outputId": "f8790052-f446-4d9b-bbc4-ab853f96358c"
      },
      "execution_count": 32,
      "outputs": [
        {
          "output_type": "stream",
          "name": "stdout",
          "text": [
            "x1 : 0.3\n",
            "x2 : 0.0\n",
            "x3 : 0.2\n",
            "x4 : 0.5\n",
            "Funcion objetivo: 0.199\n"
          ]
        }
      ]
    },
    {
      "cell_type": "code",
      "source": [],
      "metadata": {
        "id": "wsZkWD1D23E6"
      },
      "execution_count": null,
      "outputs": []
    }
  ],
  "metadata": {
    "colab": {
      "provenance": [],
      "collapsed_sections": [],
      "authorship_tag": "ABX9TyM0rnZ5qENxO6GTuVHyUMfX",
      "include_colab_link": true
    },
    "kernelspec": {
      "display_name": "Python 3",
      "name": "python3"
    },
    "language_info": {
      "name": "python"
    }
  },
  "nbformat": 4,
  "nbformat_minor": 0
}