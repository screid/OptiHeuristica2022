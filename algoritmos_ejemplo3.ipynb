{
  "cells": [
    {
      "cell_type": "markdown",
      "metadata": {
        "id": "view-in-github",
        "colab_type": "text"
      },
      "source": [
        "<a href=\"https://colab.research.google.com/github/screid/OptiHeuristica2022/blob/main/algoritmos_ejemplo3.ipynb\" target=\"_parent\"><img src=\"https://colab.research.google.com/assets/colab-badge.svg\" alt=\"Open In Colab\"/></a>"
      ]
    },
    {
      "cell_type": "code",
      "execution_count": null,
      "metadata": {
        "colab": {
          "base_uri": "https://localhost:8080/"
        },
        "id": "OinC1vpiofgs",
        "outputId": "697aab14-30f2-4ee9-e811-e48ab780805a"
      },
      "outputs": [
        {
          "name": "stdout",
          "output_type": "stream",
          "text": [
            "Looking in indexes: https://pypi.org/simple, https://us-python.pkg.dev/colab-wheels/public/simple/\n",
            "Collecting pulp\n",
            "  Downloading PuLP-2.6.0-py3-none-any.whl (14.2 MB)\n",
            "\u001b[K     |████████████████████████████████| 14.2 MB 7.8 MB/s \n",
            "\u001b[?25hInstalling collected packages: pulp\n",
            "Successfully installed pulp-2.6.0\n"
          ]
        }
      ],
      "source": [
        "!pip install pulp"
      ]
    },
    {
      "cell_type": "code",
      "execution_count": null,
      "metadata": {
        "id": "I7fNx_ktorP4"
      },
      "outputs": [],
      "source": [
        "from pulp import *"
      ]
    },
    {
      "cell_type": "code",
      "execution_count": null,
      "metadata": {
        "id": "V5scV9jOztbl"
      },
      "outputs": [],
      "source": [
        "# Instanciar modelo\n",
        "ejemplo3 = LpProblem(name = \"Ejemplo_3\", sense= LpMaximize)"
      ]
    },
    {
      "cell_type": "code",
      "execution_count": null,
      "metadata": {
        "colab": {
          "background_save": true
        },
        "id": "oI_14BqXz1js"
      },
      "outputs": [],
      "source": [
        "# Instanciar variables\n",
        "x1 = LpVariable(name = \"x1\", lowBound = 0.0, upBound = 1.0)\n",
        "x2 = LpVariable(name = \"x2\", lowBound = 0.0, upBound = 1.0)\n",
        "x3 = LpVariable(name = \"x3\", lowBound = 0.0, upBound = 1.0)\n",
        "x4 = LpVariable(name = \"x4\", lowBound = 0.0, upBound = 1.0)"
      ]
    },
    {
      "cell_type": "code",
      "source": [
        "# Declarar funcion objetivo\n",
        "ejemplo3 += 0.18*x1 + 0.20*x2 + 0.25*x3 + 0.19*x4, \"Maximizar_inversion\""
      ],
      "metadata": {
        "id": "SVrO8aPG0dvd"
      },
      "execution_count": 22,
      "outputs": []
    },
    {
      "cell_type": "code",
      "source": [
        "# Declarar restricciones\n",
        "# 1. Valor bonos no debe ser menor al 30% de la inversion\n",
        "ejemplo3 += x1 >= 0.30\n",
        "# 2. Valor certificados no debe ser menos del 40% de la inversion\n",
        "ejemplo3 += x4 >= 0.40\n",
        "# 3. Valor acciones no puede superar el 20% de la inversion\n",
        "ejemplo3 += x2+x3 <= 0.20\n",
        "#Suma total porcentajes\n",
        "ejemplo3 += x1 + x2 + x3 + x4 == 1.0"
      ],
      "metadata": {
        "id": "8yIsmymp0oX9"
      },
      "execution_count": 24,
      "outputs": []
    },
    {
      "cell_type": "code",
      "source": [
        "# Resolver\n",
        "ejemplo3.solve()"
      ],
      "metadata": {
        "colab": {
          "base_uri": "https://localhost:8080/"
        },
        "id": "-hQ6QhW61MOL",
        "outputId": "4ae7030b-e2a6-4105-ff88-dec6f9a01314"
      },
      "execution_count": 25,
      "outputs": [
        {
          "output_type": "execute_result",
          "data": {
            "text/plain": [
              "1"
            ]
          },
          "metadata": {},
          "execution_count": 25
        }
      ]
    },
    {
      "cell_type": "code",
      "source": [
        "# Resultados\n",
        "# 1. Variables:\n",
        "for v in ejemplo3.variables():\n",
        "  print(v.name, \":\", v.varValue)\n",
        "\n",
        "# 2. Funcion objetivo\n",
        "print(\"Funcion objetivo:\", value(ejemplo3.objective))"
      ],
      "metadata": {
        "colab": {
          "base_uri": "https://localhost:8080/"
        },
        "id": "HH7XHVF21V5K",
        "outputId": "026b880a-f472-4d60-a9f4-3a63b23b84ef"
      },
      "execution_count": 28,
      "outputs": [
        {
          "output_type": "stream",
          "name": "stdout",
          "text": [
            "x1 : 0.3\n",
            "x2 : 0.0\n",
            "x3 : 0.2\n",
            "x4 : 0.5\n",
            "Funcion objetivo: 0.199\n"
          ]
        }
      ]
    },
    {
      "cell_type": "code",
      "source": [],
      "metadata": {
        "id": "iIcvQCKV1ftB"
      },
      "execution_count": null,
      "outputs": []
    }
  ],
  "metadata": {
    "colab": {
      "provenance": [],
      "collapsed_sections": [],
      "authorship_tag": "ABX9TyN3nvyCpERhU14iC/TqRRUe",
      "include_colab_link": true
    },
    "kernelspec": {
      "display_name": "Python 3",
      "name": "python3"
    },
    "language_info": {
      "name": "python"
    }
  },
  "nbformat": 4,
  "nbformat_minor": 0
}