{
  "cells": [
    {
      "cell_type": "markdown",
      "metadata": {
        "id": "view-in-github",
        "colab_type": "text"
      },
      "source": [
        "<a href=\"https://colab.research.google.com/github/screid/OptiHeuristica2022/blob/main/algoritmos_ejemplo4.ipynb\" target=\"_parent\"><img src=\"https://colab.research.google.com/assets/colab-badge.svg\" alt=\"Open In Colab\"/></a>"
      ]
    },
    {
      "cell_type": "code",
      "execution_count": null,
      "metadata": {
        "colab": {
          "base_uri": "https://localhost:8080/"
        },
        "id": "OinC1vpiofgs",
        "outputId": "697aab14-30f2-4ee9-e811-e48ab780805a"
      },
      "outputs": [
        {
          "name": "stdout",
          "output_type": "stream",
          "text": [
            "Looking in indexes: https://pypi.org/simple, https://us-python.pkg.dev/colab-wheels/public/simple/\n",
            "Collecting pulp\n",
            "  Downloading PuLP-2.6.0-py3-none-any.whl (14.2 MB)\n",
            "\u001b[K     |████████████████████████████████| 14.2 MB 7.8 MB/s \n",
            "\u001b[?25hInstalling collected packages: pulp\n",
            "Successfully installed pulp-2.6.0\n"
          ]
        }
      ],
      "source": [
        "!pip install pulp"
      ]
    },
    {
      "cell_type": "code",
      "execution_count": null,
      "metadata": {
        "id": "I7fNx_ktorP4"
      },
      "outputs": [],
      "source": [
        "from pulp import *"
      ]
    },
    {
      "cell_type": "code",
      "source": [
        "def modelo_ejemplo4():\n",
        "\n",
        "  # Instanciar problema\n",
        "  ejemplo4 = LpProblem(name = \"Ejemplo_4\", sense = LpMinimize)\n",
        "\n",
        "  # Declarar variables\n",
        "  x11 = LpVariable(name = 'x11', lowBound = 0)\n",
        "  x12 = LpVariable(name = 'x12', lowBound = 0)\n",
        "  x13 = LpVariable(name = 'x13', lowBound = 0)\n",
        "  x21 = LpVariable(name = 'x21', lowBound = 0)\n",
        "  x22 = LpVariable(name = 'x22', lowBound = 0)\n",
        "  x23 = LpVariable(name = 'x23', lowBound = 0)\n",
        "\n",
        "  # Declarar funcion objetivo\n",
        "  ejemplo4 += 21*x11 + 25*x12 + 15*x13 + 28*x21 + 13*x22 + 19*x23, \"Minimizar_costos_transportes\"\n",
        "\n",
        "  # Declarar restricciones\n",
        "  # 1. Se debe cumplir la demanda para cada centro de distribucion\n",
        "  # CD1:\n",
        "  ejemplo4 += x11 + x21 >= 200, \"Demanda minima para CD1\"\n",
        "\n",
        "  # CD2:\n",
        "  ejemplo4 += x12 + x22 >= 200, \"Demanda minima para CD2\"\n",
        "\n",
        "  # CD1:\n",
        "  ejemplo4 += x13 + x23 >= 250, \"Demanda minima para CD3\"\n",
        "\n",
        "  # 2. Se debe respetar el máximo de oferta para cada planta\n",
        "  # P1: \n",
        "  ejemplo4 += x11 + x12 + x13 <= 250, \"Oferta maxima para P1\"\n",
        "\n",
        "  # P2: \n",
        "  ejemplo4 += x21 + x22 + x23 <= 450, \"Oferta maxima para P2\"\n",
        "\n",
        "  # Resolver\n",
        "  ejemplo4.solve()\n",
        "\n",
        "  # Imprimir resultados:\n",
        "  # Variables:\n",
        "  for v in ejemplo4.variables():\n",
        "    print(v.name, \":\", v.varValue)\n",
        "\n",
        "  # 2. Funcion objetivo\n",
        "  print(\"Funcion objetivo:\", value(ejemplo4.objective))"
      ],
      "metadata": {
        "id": "hpT7mEhf6thz"
      },
      "execution_count": 33,
      "outputs": []
    },
    {
      "cell_type": "code",
      "source": [
        "modelo_ejemplo4()"
      ],
      "metadata": {
        "colab": {
          "base_uri": "https://localhost:8080/"
        },
        "id": "hns65MvB7-Bh",
        "outputId": "995650d8-9540-426a-e784-4373d66c7c4f"
      },
      "execution_count": 34,
      "outputs": [
        {
          "output_type": "stream",
          "name": "stdout",
          "text": [
            "x11 : 200.0\n",
            "x12 : 0.0\n",
            "x13 : 50.0\n",
            "x21 : 0.0\n",
            "x22 : 200.0\n",
            "x23 : 200.0\n",
            "Funcion objetivo: 11350.0\n"
          ]
        }
      ]
    },
    {
      "cell_type": "code",
      "source": [],
      "metadata": {
        "id": "a2Q7o-1O7_z3"
      },
      "execution_count": null,
      "outputs": []
    }
  ],
  "metadata": {
    "colab": {
      "provenance": [],
      "collapsed_sections": [],
      "authorship_tag": "ABX9TyPE2DLdLzpAgTiGLLBawD2x",
      "include_colab_link": true
    },
    "kernelspec": {
      "display_name": "Python 3",
      "name": "python3"
    },
    "language_info": {
      "name": "python"
    }
  },
  "nbformat": 4,
  "nbformat_minor": 0
}