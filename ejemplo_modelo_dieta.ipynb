{
  "nbformat": 4,
  "nbformat_minor": 0,
  "metadata": {
    "colab": {
      "provenance": [],
      "authorship_tag": "ABX9TyOvGsBXwE2NjRgwAEUaZyDv",
      "include_colab_link": true
    },
    "kernelspec": {
      "name": "python3",
      "display_name": "Python 3"
    },
    "language_info": {
      "name": "python"
    }
  },
  "cells": [
    {
      "cell_type": "markdown",
      "metadata": {
        "id": "view-in-github",
        "colab_type": "text"
      },
      "source": [
        "<a href=\"https://colab.research.google.com/github/screid/OptiHeuristica2022/blob/main/ejemplo_modelo_dieta.ipynb\" target=\"_parent\"><img src=\"https://colab.research.google.com/assets/colab-badge.svg\" alt=\"Open In Colab\"/></a>"
      ]
    },
    {
      "cell_type": "code",
      "execution_count": 1,
      "metadata": {
        "colab": {
          "base_uri": "https://localhost:8080/"
        },
        "id": "04V5kDI23Hzc",
        "outputId": "3180c121-177d-40d4-c045-67b8c089c1b2"
      },
      "outputs": [
        {
          "output_type": "stream",
          "name": "stdout",
          "text": [
            "Looking in indexes: https://pypi.org/simple, https://us-python.pkg.dev/colab-wheels/public/simple/\n",
            "Collecting pulp\n",
            "  Downloading PuLP-2.6.0-py3-none-any.whl (14.2 MB)\n",
            "\u001b[K     |████████████████████████████████| 14.2 MB 4.8 MB/s \n",
            "\u001b[?25hInstalling collected packages: pulp\n",
            "Successfully installed pulp-2.6.0\n"
          ]
        }
      ],
      "source": [
        "!pip install pulp"
      ]
    },
    {
      "cell_type": "code",
      "source": [
        "from pulp import *"
      ],
      "metadata": {
        "id": "HAaPaD6P3S_4"
      },
      "execution_count": 2,
      "outputs": []
    },
    {
      "cell_type": "markdown",
      "source": [
        "# 1) Definir el problema"
      ],
      "metadata": {
        "id": "veVKwInJ3ngp"
      }
    },
    {
      "cell_type": "code",
      "source": [
        "def modelo_dieta(Alimento,Nutriente,costo,requerimiento,requerimiento_min,requerimiento_max):\n",
        "  # Instancio el problema\n",
        "  problem = LpProblem(name = \"modelo_dieta\", sense = LpMinimize)\n",
        "\n",
        "  # Declaro las variables\n",
        "  x = LpVariable.dicts(name = 'x', indices = (Alimento), lowBound = 0)\n",
        "\n",
        "  # Función objetivo\n",
        "  problem += lpSum(costo[i]*x[i] for i in Alimento)\n",
        "\n",
        "  # Restricciones\n",
        "  # 1. Se debe cumplir los requerimientos minimos para cada nutriente\n",
        "  for j in Nutriente:\n",
        "    problem += lpSum(requerimiento[i][j]*x[i] for i in Alimento) >= requerimiento_min, \"Req_min_nutriente_{}\".format(j)\n",
        "\n",
        "  # 2. Se debe cumplir los requerimientos maximos para cada nutriente\n",
        "  for j in Nutriente:\n",
        "    problem += lpSum(requerimiento[i][j]*x[i] for i in Alimento) <= requerimiento_max, \"Req_max_nutriente_{}\".format(j)\n",
        "\n",
        "  # Resolver el problema\n",
        "  problem.solve()\n",
        "\n",
        "  # Imprimir variables\n",
        "  for v in v.variables():\n",
        "    print(v.name, \": \", v.varValue)\n",
        "\n",
        "  # Imprimir funcion objetivo\n",
        "  print(value(problem.objective))"
      ],
      "metadata": {
        "id": "t8PXzp0w3XWX"
      },
      "execution_count": null,
      "outputs": []
    }
  ]
}