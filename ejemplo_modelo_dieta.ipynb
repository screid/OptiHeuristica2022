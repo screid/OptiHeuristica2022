{
  "nbformat": 4,
  "nbformat_minor": 0,
  "metadata": {
    "colab": {
      "provenance": [],
      "authorship_tag": "ABX9TyMlniAyEfo5EPQczgxSpGzv",
      "include_colab_link": true
    },
    "kernelspec": {
      "name": "python3",
      "display_name": "Python 3"
    },
    "language_info": {
      "name": "python"
    }
  },
  "cells": [
    {
      "cell_type": "markdown",
      "metadata": {
        "id": "view-in-github",
        "colab_type": "text"
      },
      "source": [
        "<a href=\"https://colab.research.google.com/github/screid/OptiHeuristica2022/blob/main/ejemplo_modelo_dieta.ipynb\" target=\"_parent\"><img src=\"https://colab.research.google.com/assets/colab-badge.svg\" alt=\"Open In Colab\"/></a>"
      ]
    },
    {
      "cell_type": "code",
      "execution_count": 1,
      "metadata": {
        "colab": {
          "base_uri": "https://localhost:8080/"
        },
        "id": "04V5kDI23Hzc",
        "outputId": "3180c121-177d-40d4-c045-67b8c089c1b2"
      },
      "outputs": [
        {
          "output_type": "stream",
          "name": "stdout",
          "text": [
            "Looking in indexes: https://pypi.org/simple, https://us-python.pkg.dev/colab-wheels/public/simple/\n",
            "Collecting pulp\n",
            "  Downloading PuLP-2.6.0-py3-none-any.whl (14.2 MB)\n",
            "\u001b[K     |████████████████████████████████| 14.2 MB 4.8 MB/s \n",
            "\u001b[?25hInstalling collected packages: pulp\n",
            "Successfully installed pulp-2.6.0\n"
          ]
        }
      ],
      "source": [
        "!pip install pulp"
      ]
    },
    {
      "cell_type": "code",
      "source": [
        "from pulp import *"
      ],
      "metadata": {
        "id": "HAaPaD6P3S_4"
      },
      "execution_count": 2,
      "outputs": []
    },
    {
      "cell_type": "markdown",
      "source": [
        "# 1) Definir el problema"
      ],
      "metadata": {
        "id": "veVKwInJ3ngp"
      }
    },
    {
      "cell_type": "code",
      "source": [
        "def modelo_dieta(Alimento,Nutriente,costo,requerimiento,requerimiento_min,requerimiento_max):\n",
        "  # Instancio el problema\n",
        "  problem = LpProblem(name = \"modelo_dieta\", sense = LpMinimize)\n",
        "\n",
        "  # Declaro las variables\n",
        "  x = LpVariable.dicts(name = 'x', indices = (Alimento), lowBound = 0)\n",
        "\n",
        "  # Función objetivo\n",
        "  problem += lpSum(costo[i]*x[i] for i in Alimento)\n",
        "\n",
        "  # Restricciones\n",
        "  # 1. Se debe cumplir los requerimientos minimos para cada nutriente\n",
        "  for j in Nutriente:\n",
        "    problem += lpSum(requerimiento[i][j]*x[i] for i in Alimento) >= requerimiento_min, \"Req_min_nutriente_{}\".format(j)\n",
        "\n",
        "  # 2. Se debe cumplir los requerimientos maximos para cada nutriente\n",
        "  for j in Nutriente:\n",
        "    problem += lpSum(requerimiento[i][j]*x[i] for i in Alimento) <= requerimiento_max, \"Req_max_nutriente_{}\".format(j)\n",
        "\n",
        "  # Resolver el problema\n",
        "  problem.solve()\n",
        "\n",
        "  # Imprimir variables\n",
        "  for v in problem.variables():\n",
        "    print(v.name, \": \", v.varValue)\n",
        "\n",
        "  # Imprimir funcion objetivo\n",
        "  print(value(problem.objective))"
      ],
      "metadata": {
        "id": "t8PXzp0w3XWX"
      },
      "execution_count": 9,
      "outputs": []
    },
    {
      "cell_type": "markdown",
      "source": [
        "# 2) Declarar datos de entrada"
      ],
      "metadata": {
        "id": "-ejMKbQ_6rUn"
      }
    },
    {
      "cell_type": "markdown",
      "source": [
        "## 2.1) Conjuntos: Estos se deben expresar como una lista"
      ],
      "metadata": {
        "id": "dn_XkmJu6v4n"
      }
    },
    {
      "cell_type": "code",
      "source": [
        "I = ['Palta', 'Carne', 'Arroz']\n",
        "J = [' Calorias', 'Grasas', 'Proteinas', 'Carbohidratos']"
      ],
      "metadata": {
        "id": "IXGXtIxM6uX1"
      },
      "execution_count": 4,
      "outputs": []
    },
    {
      "cell_type": "markdown",
      "source": [
        "## 2.2) Parametros: Estos se deben declarar como diccionario\n",
        "\n",
        "En el casode parametros bidimensionales, lo mejor es declararlos como una matriz mediante listas, y luego transformarlos a diccionarios"
      ],
      "metadata": {
        "id": "W0f1JkMQ7CpR"
      }
    },
    {
      "cell_type": "code",
      "source": [
        "c = {\n",
        "    'Palta': 3990,\n",
        "    'Carne': 7490,\n",
        "    'Arroz': 1100}\n",
        "\n",
        "R_min = {\n",
        "    'Calorias': 1600,\n",
        "    'Grasas': 60,\n",
        "    'Proteinas': 56,\n",
        "    'Carbohidratos': 100\n",
        "    }\n",
        "\n",
        "R_max = {\n",
        "    'Calorias': 2000,\n",
        "    'Grasas': 80,\n",
        "    'Proteinas': 90,\n",
        "    'Carbohidratos': 150\n",
        "    }"
      ],
      "metadata": {
        "id": "CP2zgSGq7OsN"
      },
      "execution_count": 5,
      "outputs": []
    },
    {
      "cell_type": "code",
      "source": [
        "R = [\n",
        "    #Calorias #Grasas #Proteinas #Carbohidratos  \n",
        "  [161, 14.74, 2.01, 8.58], #Palta\n",
        "  [287, 19.29, 26.41, 0], #Carne\n",
        "  [365, 0.66, 7.13, 79.95] # Arroz\n",
        "\n",
        "]\n",
        "\n",
        "R = makeDict(headers=(I,J), array= R, default = 0)"
      ],
      "metadata": {
        "id": "O6bNhZGe7uXf"
      },
      "execution_count": 6,
      "outputs": []
    },
    {
      "cell_type": "code",
      "source": [
        "# Llamo a la funcion\n",
        "modelo_dieta(\n",
        "    Alimento= I,\n",
        "    Nutriente = J,\n",
        "    costo = c,\n",
        "    requerimiento = R,\n",
        "    requerimiento_min = R_min,\n",
        "    requerimiento_max = R_max\n",
        ")"
      ],
      "metadata": {
        "colab": {
          "base_uri": "https://localhost:8080/"
        },
        "id": "Iz_zfopJ8QLF",
        "outputId": "824b4f2b-c94e-4847-d2d3-1ec3b88160e6"
      },
      "execution_count": 10,
      "outputs": [
        {
          "output_type": "stream",
          "name": "stdout",
          "text": [
            "x_Arroz :  0.0\n",
            "x_Carne :  65.954315\n",
            "x_Palta :  36.888824\n",
            "641184.22711\n"
          ]
        }
      ]
    },
    {
      "cell_type": "code",
      "source": [],
      "metadata": {
        "id": "QeDI3YpX8d-O"
      },
      "execution_count": null,
      "outputs": []
    }
  ]
}